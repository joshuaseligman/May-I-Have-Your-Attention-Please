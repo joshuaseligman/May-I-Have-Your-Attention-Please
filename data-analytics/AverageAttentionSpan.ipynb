{
 "metadata": {
  "language_info": {
   "codemirror_mode": {
    "name": "ipython",
    "version": 3
   },
   "file_extension": ".py",
   "mimetype": "text/x-python",
   "name": "python",
   "nbconvert_exporter": "python",
   "pygments_lexer": "ipython3",
   "version": "3.8.3"
  },
  "orig_nbformat": 2,
  "kernelspec": {
   "name": "python383jvsc74a57bd0aee8b7b246df8f9039afb4144a1f6fd8d2ca17a180786b69acc140d282b71a49",
   "display_name": "Python 3.8.3 64-bit"
  }
 },
 "nbformat": 4,
 "nbformat_minor": 2,
 "cells": [
  {
   "cell_type": "code",
   "execution_count": 1,
   "metadata": {},
   "outputs": [],
   "source": [
    "import pandas"
   ]
  },
  {
   "cell_type": "code",
   "execution_count": 2,
   "metadata": {},
   "outputs": [
    {
     "output_type": "execute_result",
     "data": {
      "text/plain": [
       "   P1_TO_LAPTOP  P2_TO_LAPTOP  P3_TO_LAPTOP  P4_TO_LAPTOP  P5_TO_LAPTOP  \\\n",
       "0             0             0             0             1             0   \n",
       "1             0             0             1             1             0   \n",
       "2             0             0             0             1             0   \n",
       "3             0             0             0             0             0   \n",
       "4             0             0             0             1             0   \n",
       "\n",
       "   P6_TO_LAPTOP  P7_TO_LAPTOP  P8_TO_LAPTOP  \n",
       "0             0             1             0  \n",
       "1             0             1             0  \n",
       "2             0             0             0  \n",
       "3             0             1             0  \n",
       "4             0             1             0  "
      ],
      "text/html": "<div>\n<style scoped>\n    .dataframe tbody tr th:only-of-type {\n        vertical-align: middle;\n    }\n\n    .dataframe tbody tr th {\n        vertical-align: top;\n    }\n\n    .dataframe thead th {\n        text-align: right;\n    }\n</style>\n<table border=\"1\" class=\"dataframe\">\n  <thead>\n    <tr style=\"text-align: right;\">\n      <th></th>\n      <th>P1_TO_LAPTOP</th>\n      <th>P2_TO_LAPTOP</th>\n      <th>P3_TO_LAPTOP</th>\n      <th>P4_TO_LAPTOP</th>\n      <th>P5_TO_LAPTOP</th>\n      <th>P6_TO_LAPTOP</th>\n      <th>P7_TO_LAPTOP</th>\n      <th>P8_TO_LAPTOP</th>\n    </tr>\n  </thead>\n  <tbody>\n    <tr>\n      <th>0</th>\n      <td>0</td>\n      <td>0</td>\n      <td>0</td>\n      <td>1</td>\n      <td>0</td>\n      <td>0</td>\n      <td>1</td>\n      <td>0</td>\n    </tr>\n    <tr>\n      <th>1</th>\n      <td>0</td>\n      <td>0</td>\n      <td>1</td>\n      <td>1</td>\n      <td>0</td>\n      <td>0</td>\n      <td>1</td>\n      <td>0</td>\n    </tr>\n    <tr>\n      <th>2</th>\n      <td>0</td>\n      <td>0</td>\n      <td>0</td>\n      <td>1</td>\n      <td>0</td>\n      <td>0</td>\n      <td>0</td>\n      <td>0</td>\n    </tr>\n    <tr>\n      <th>3</th>\n      <td>0</td>\n      <td>0</td>\n      <td>0</td>\n      <td>0</td>\n      <td>0</td>\n      <td>0</td>\n      <td>1</td>\n      <td>0</td>\n    </tr>\n    <tr>\n      <th>4</th>\n      <td>0</td>\n      <td>0</td>\n      <td>0</td>\n      <td>1</td>\n      <td>0</td>\n      <td>0</td>\n      <td>1</td>\n      <td>0</td>\n    </tr>\n  </tbody>\n</table>\n</div>"
     },
     "metadata": {},
     "execution_count": 2
    }
   ],
   "source": [
    "data = pandas.read_csv('data/network21-modified.csv')\n",
    "data.head()"
   ]
  },
  {
   "cell_type": "code",
   "execution_count": 3,
   "metadata": {},
   "outputs": [
    {
     "output_type": "stream",
     "name": "stdout",
     "text": [
      "              Average Good  Max Good  Average Bad     Max Bad\nP1_TO_LAPTOP      0.815603  5.000000     8.996960  139.666667\nP2_TO_LAPTOP      1.034188  7.666667    40.376068  475.000000\nP3_TO_LAPTOP      0.608273  3.000000    22.844282  236.000000\nP4_TO_LAPTOP      0.761525  4.666667     7.805333  104.333333\nP5_TO_LAPTOP      0.808834  6.666667     5.854382  107.666667\nP6_TO_LAPTOP      0.576324  4.000000    29.514019  350.666667\nP7_TO_LAPTOP      0.817333  4.333333    12.058902  150.666667\nP8_TO_LAPTOP      0.757271  7.000000    10.054810  124.333333\n\nAverage Good: 0.7779397473275025 seconds\nAverage Bad: 11.746433203631646 seconds\n"
     ]
    }
   ],
   "source": [
    "cols = data.columns\n",
    "\n",
    "indiv_data_dict = {}\n",
    "\n",
    "total_sum_good = 0\n",
    "total_num_good = 0\n",
    "\n",
    "total_sum_bad = 0\n",
    "total_num_bad = 0\n",
    "\n",
    "for person in cols:\n",
    "    indiv_series = data[person]\n",
    "\n",
    "    indiv_spans_good = []\n",
    "    indiv_spans_bad = []\n",
    "    cur_span_good = 0\n",
    "    cur_span_bad = 0\n",
    "\n",
    "    for time, val in indiv_series.iteritems():\n",
    "        if val == 1:\n",
    "            if cur_span_bad >= 1:\n",
    "                indiv_spans_bad.append(cur_span_bad)\n",
    "                cur_span_bad = 0\n",
    "            cur_span_good += 1\n",
    "        else:\n",
    "            if cur_span_good >= 1:\n",
    "                indiv_spans_good.append(cur_span_good)\n",
    "                cur_span_good = 0\n",
    "            cur_span_bad += 1\n",
    "    indiv_avg_good = sum(indiv_spans_good) / len(indiv_spans_good)\n",
    "    indiv_max_good = max(indiv_spans_good)\n",
    "    indiv_avg_bad = sum(indiv_spans_bad) / len(indiv_spans_bad)\n",
    "    indiv_max_bad = max(indiv_spans_bad)\n",
    "    indiv_data_dict[person] = (indiv_avg_good / 3, indiv_max_good / 3, \\\n",
    "                                indiv_avg_bad / 3, indiv_max_bad / 3)\n",
    "\n",
    "    total_sum_good += sum(indiv_spans_good)\n",
    "    total_num_good += len(indiv_spans_good)\n",
    "    total_sum_bad += sum(indiv_spans_bad)\n",
    "    total_num_bad += len(indiv_spans_bad)\n",
    "\n",
    "df = pandas.DataFrame(indiv_data_dict).T\n",
    "df.columns = ['Average Good', 'Max Good', 'Average Bad', 'Max Bad']\n",
    "print(df)\n",
    "print(f'\\nAverage Good: {total_sum_good / total_num_good / 3} seconds')\n",
    "print(f'Average Bad: {total_sum_bad / total_num_bad / 3} seconds')\n"
   ]
  },
  {
   "cell_type": "code",
   "execution_count": 4,
   "metadata": {},
   "outputs": [],
   "source": [
    "df.to_csv('data/average_data.csv')"
   ]
  },
  {
   "cell_type": "code",
   "execution_count": 5,
   "metadata": {},
   "outputs": [],
   "source": [
    "with open('data/average_data.csv', 'a') as f:\n",
    "    f.write(f'Overall,{total_sum_good / total_num_good / 3},0,{total_sum_bad / total_num_bad / 3},0')"
   ]
  }
 ]
}